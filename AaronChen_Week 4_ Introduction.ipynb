{
 "cells": [
  {
   "cell_type": "markdown",
   "metadata": {},
   "source": [
    "# Introduction"
   ]
  },
  {
   "cell_type": "markdown",
   "metadata": {},
   "source": [
    "New York City is the most populous and business-developed city in the United States. This city has a multicultural character and is also the financial capital of the United States. This city provides many job opportunities and a stable business environment, attracting many people from different cultural backgrounds to join the market. New York is also a global commercial center, which means that there is fierce market competition, and the cost of doing business is also one of the highest cities in the world. In terms of the external environment, the Covid-19 epidemic has impacted the original office style since 2020. The working areas where the crowds were initially concentrated during working hours have gradually spread to various residential areas in the urban area. Therefore, under the current environmental background, any new business development needs to be carefully evaluated. It can obtain better insights through data analysis, which will help reduce risks, accurately invest in the correct market, and generate a reasonable investment return."
   ]
  },
  {
   "cell_type": "markdown",
   "metadata": {},
   "source": [
    "# Business problem"
   ]
  },
  {
   "cell_type": "markdown",
   "metadata": {},
   "source": [
    "Affected by the epidemic, the transformation of the business office model is something that people who enter the market now need to pay attention to. It will also transform the traditional mode of drinking beverages in the office into working from home.\n",
    "And It will change the standard orders from the office small orders quantity, and a large amount of single order, which transformed into large orders quantity but a small amount in a single charge. Therefore, the key to winning against competitors is on-demand ability. We aim to maximize the coverage of bubble tea and find the newest store location in places with less coverage and fewer similar stores."
   ]
  },
  {
   "cell_type": "markdown",
   "metadata": {},
   "source": [
    "# Find a appropriate location."
   ]
  },
  {
   "cell_type": "markdown",
   "metadata": {},
   "source": [
    "If you want to open a Bubble Tea shop now, the focus is to find places outside the traditional dense areas, and the traditional competitive model of finding sites with high traffic has also begun to change. Therefore, it is crucial to plan from scratch if you want to survive in the current sluggish economic environment. It is necessary to measure various factors in the entire region to determine the location of the final store."
   ]
  },
  {
   "cell_type": "markdown",
   "metadata": {},
   "source": [
    "# Target Group"
   ]
  },
  {
   "cell_type": "markdown",
   "metadata": {},
   "source": [
    "My client will start a new business in Manhattan during the epidemic period in 2021, so I focused on this specific administrative region when analyzing. The goal is to recommend the best choice for opening a new store as decision support by suggesting a particular location for the management. At the same time, the direction can also use this analysis to understand the reason for the decision."
   ]
  }
 ],
 "metadata": {
  "kernelspec": {
   "display_name": "Python 3",
   "language": "python",
   "name": "python3"
  },
  "language_info": {
   "codemirror_mode": {
    "name": "ipython",
    "version": 3
   },
   "file_extension": ".py",
   "mimetype": "text/x-python",
   "name": "python",
   "nbconvert_exporter": "python",
   "pygments_lexer": "ipython3",
   "version": "3.6.10"
  }
 },
 "nbformat": 4,
 "nbformat_minor": 4
}
