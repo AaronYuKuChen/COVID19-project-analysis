{
 "cells": [
  {
   "cell_type": "markdown",
   "metadata": {},
   "source": [
    "# Data Section"
   ]
  },
  {
   "cell_type": "markdown",
   "metadata": {},
   "source": [
    "To find the best place to open a new Bubble Tea Shop during the epidemic, I used the following information as a basis for decision-making, as follows:\n",
    "\n",
    "There are five administrative districts and 306 blocks in New York City, USA. To explore this geographic information, we need a data set of its latitude and longitude. The source of the data set is as follows:\n",
    "https://geo.nyu.edu/catalog/nyu_2451_34572\n",
    "\n",
    "From Foursquare Venues Categories - https://developer.foursquare.com/docs/resources/categories The Bubble Tea Shop category Id -52e81612bcbc57f1066b7a0c"
   ]
  }
 ],
 "metadata": {
  "kernelspec": {
   "display_name": "Python 3",
   "language": "python",
   "name": "python3"
  },
  "language_info": {
   "codemirror_mode": {
    "name": "ipython",
    "version": 3
   },
   "file_extension": ".py",
   "mimetype": "text/x-python",
   "name": "python",
   "nbconvert_exporter": "python",
   "pygments_lexer": "ipython3",
   "version": "3.6.10"
  }
 },
 "nbformat": 4,
 "nbformat_minor": 4
}
